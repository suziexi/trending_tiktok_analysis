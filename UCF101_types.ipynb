{
  "nbformat": 4,
  "nbformat_minor": 0,
  "metadata": {
    "colab": {
      "provenance": []
    },
    "kernelspec": {
      "name": "python3",
      "display_name": "Python 3"
    },
    "language_info": {
      "name": "python"
    }
  },
  "cells": [
    {
      "cell_type": "code",
      "execution_count": null,
      "metadata": {
        "id": "gJu7XOQxAzf-"
      },
      "outputs": [],
      "source": [
        "human_object_interaction = ['ApplyEyeMakeup', 'ApplyLipstick', 'BenchPress', \n",
        "                            'BlowDryHair', 'BlowingCandles',   'CuttingInKitchen','Drumming',  'Hammering', \n",
        "                            'Kayaking', 'Knitting', 'Mixing', 'Nunchucks', \n",
        "                            'PizzaTossing', 'PommelHorse',  'Punch', 'Rafting', \n",
        "                            'WalkingWithDog', 'YoYo'     \n",
        "                            ] \n",
        "                           \n"
      ]
    },
    {
      "cell_type": "code",
      "source": [
        "body_motion_only = ['BabyCrawling',  'BrushingTeeth', 'Haircut',\n",
        "                    'IceDancing',  'JumpRope', 'Lunges', 'MoppingFloor', 'PullUps', \n",
        "                     'ShavingBeard',  'TaiChi', 'Typing', 'WallPushups', \n",
        "                    'WritingOnBoard'\n",
        "                    ] "
      ],
      "metadata": {
        "id": "9HClVT8eBgwO"
      },
      "execution_count": null,
      "outputs": []
    },
    {
      "cell_type": "code",
      "source": [
        "human_human_interaction = ['HeadMassage', 'HorseRace', 'MilitaryParade', 'SalsaSpin', \n",
        "                           'SumoWrestling'] "
      ],
      "metadata": {
        "id": "8jfV6UBXBg6K"
      },
      "execution_count": null,
      "outputs": []
    },
    {
      "cell_type": "code",
      "source": [
        "playing_musical_instruments = ['PlayingCello', 'PlayingDaf', 'PlayingDhol', 'PlayingFlute', 'PlayingGuitar', 'PlayingPiano', \n",
        "                               'PlayingSitar', 'PlayingTabla', 'PlayingViolin', 'PoleVault', \n",
        "                               \n",
        "                               ] "
      ],
      "metadata": {
        "id": "u-HedzCmBhBw"
      },
      "execution_count": null,
      "outputs": []
    },
    {
      "cell_type": "code",
      "source": [
        "sports = ['ThrowDiscus', 'TrampolineJumping', 'UnevenBars','VolleyballSpiking', 'Archery', 'Basketball','BaseballPitch', 'BasketballDunk', 'Biking', 'Billiards',\n",
        "          'Bowling','BoxingPunchingBag', 'BoxingSpeedBag', 'CleanAndJerk', 'CricketShot','FrisbeeCatch', 'HammerThrow', 'HorseRiding', 'HulaHoop', 'JavelinThrow',\n",
        "          'JugglingBalls','ParallelBars', 'PommelHorse','Shotput', 'SoccerPenalty', 'StillRings', 'TableTennisShot', 'TennisSwing', 'FieldHockeyPenalty', 'Fencing', 'BalanceBeam', ' BodyWeightSquats', 'BreastStroke',\n",
        "          'CliffDiving', 'Diving', 'FloorGymnastics', 'FrontCrawl', 'GolfSwing',  'HandstandPushups', 'HandstandWalking', 'HighJump', 'JumpingJack','LongJump', 'RockClimbingIndoor', 'RopeClimbing', \n",
        "          'Rowing','SkateBoarding', 'Skiing','SkyDiving', 'Skijet', 'Surfing', 'Swing' \n",
        "] "
      ],
      "metadata": {
        "id": "FeSxYm_xBhKV"
      },
      "execution_count": null,
      "outputs": []
    },
    {
      "cell_type": "code",
      "source": [
        "action_dict = {'HandstandWalking': 6.8283334,\n",
        " 'WallPushups': 6.517305,\n",
        " 'HeadMassage': 4.140356,\n",
        " 'Haircut': 3.6136532,\n",
        " 'ShavingBeard': 3.0145655,\n",
        " 'HandstandPushups': 2.758671,\n",
        " 'WritingOnBoard': 1.80901,\n",
        " 'CuttingInKitchen': 1.4013839,\n",
        " 'Skiing': 1.3769345,\n",
        " 'MoppingFloor': 1.3658662,\n",
        " 'BandMarching': 1.288809,\n",
        " 'Surfing': 1.1503464,\n",
        " 'BabyCrawling': 1.0629909,\n",
        " 'Mixing': 1.0475562,\n",
        " 'BenchPress': 0.99780244,\n",
        " 'PlayingDaf': 0.97052354,\n",
        " 'TennisSwing': 0.852286,\n",
        " 'FrontCrawl': 0.8382359,\n",
        " 'Typing': 0.81815296,\n",
        " 'ApplyLipstick': 0.81055546,\n",
        " 'BlowDryHair': 0.8054949,\n",
        " 'SkyDiving': 0.80227435,\n",
        " 'ApplyEyeMakeup': 0.67584735,\n",
        " 'BlowingCandles': 0.574046,\n",
        " 'CliffDiving': 0.5580287,\n",
        " 'StillRings': 0.45426935,\n",
        " 'CricketShot': 0.44465226,\n",
        " 'HammerThrow': 0.41362077,\n",
        " 'RockClimbingIndoor': 0.4001944,\n",
        " 'Archery': 0.38635063,\n",
        " 'BrushingTeeth': 0.35582188,\n",
        " 'PlayingDhol': 0.35357296,\n",
        " 'RopeClimbing': 0.3317924,\n",
        " 'Bowling': 0.3077923,\n",
        " 'SumoWrestling': 0.2653903,\n",
        " 'IceDancing': 0.21695927,\n",
        " 'BoxingSpeedBag': 0.19264024,\n",
        " 'BalanceBeam': 0.17946091,\n",
        " 'Shotput': 0.15445656,\n",
        " 'FieldHockeyPenalty': 0.14071192,\n",
        " 'PlayingCello': 0.13696972,\n",
        " 'YoYo': 0.095053025,\n",
        " 'BoxingPunchingBag': 0.07905805,\n",
        " 'LongJump': 0.06974364,\n",
        " 'SkateBoarding': 0.05421512,\n",
        " 'Knitting': 0.048407923,\n",
        " 'HulaHoop': 0.03836326,\n",
        " 'BodyWeightSquats': 0.03579127,\n",
        " 'TaiChi': 0.022954103,\n",
        " 'TableTennisShot': 0.0058534085,\n",
        " 'BaseballPitch': 0.00063777075,\n",
        " 'Lunges': 0.00032306823,\n",
        " 'Drumming': 0.00030969386}\n"
      ],
      "metadata": {
        "id": "324S6UKxft74"
      },
      "execution_count": null,
      "outputs": []
    },
    {
      "cell_type": "code",
      "source": [
        "action_type = {'human_object_interaction': 0, \n",
        "               'body_motion_only': 0, \n",
        "               'human_human_interaction': 0, \n",
        "               'playing_musical_instruments': 0, \n",
        "               'sports': 0 \n",
        "               } \n",
        "\n",
        "for key in action_dict.keys(): \n",
        "  if key in sports: \n",
        "    action_type['sports']+= action_dict[key] \n",
        "  if key in body_motion_only: \n",
        "    action_type['body_motion_only']+= action_dict[key] \n",
        "  if key in human_human_interaction: \n",
        "    action_type['human_human_interaction']+= action_dict[key] \n",
        "  if key in playing_musical_instruments: \n",
        "    action_type['playing_musical_instruments']+= action_dict[key] \n",
        "  if key in human_object_interaction: \n",
        "    action_type['human_object_interaction']+= action_dict[key]  "
      ],
      "metadata": {
        "id": "9YlMq7zGf0ga"
      },
      "execution_count": null,
      "outputs": []
    },
    {
      "cell_type": "code",
      "source": [
        "action_type"
      ],
      "metadata": {
        "colab": {
          "base_uri": "https://localhost:8080/"
        },
        "id": "BS8LT1d_g64O",
        "outputId": "74f9cfb0-c71d-4f91-a80d-415094e5e831"
      },
      "execution_count": null,
      "outputs": [
        {
          "output_type": "execute_result",
          "data": {
            "text/plain": [
              "{'human_object_interaction': 2.2952546399999996,\n",
              " 'body_motion_only': 8.585146331999999,\n",
              " 'human_human_interaction': 1.5241219,\n",
              " 'playing_musical_instruments': 0.6263323,\n",
              " 'sports': 7.917900909999999}"
            ]
          },
          "metadata": {},
          "execution_count": 20
        }
      ]
    }
  ]
}