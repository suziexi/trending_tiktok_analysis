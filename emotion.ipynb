{
  "nbformat": 4,
  "nbformat_minor": 0,
  "metadata": {
    "colab": {
      "provenance": [],
      "machine_shape": "hm"
    },
    "kernelspec": {
      "name": "python3",
      "display_name": "Python 3"
    },
    "language_info": {
      "name": "python"
    },
    "accelerator": "GPU",
    "gpuClass": "premium"
  },
  "cells": [
    {
      "cell_type": "code",
      "source": [
        "!pip install kora\n",
        "import kora.install.py38"
      ],
      "metadata": {
        "colab": {
          "base_uri": "https://localhost:8080/"
        },
        "id": "B_9oEvHEHVTn",
        "outputId": "8cc88be0-d1ef-45cd-9199-f27963b19a2d"
      },
      "execution_count": null,
      "outputs": [
        {
          "output_type": "stream",
          "name": "stdout",
          "text": [
            "Looking in indexes: https://pypi.org/simple, https://us-python.pkg.dev/colab-wheels/public/simple/\n",
            "Collecting kora\n",
            "  Downloading kora-0.9.20-py3-none-any.whl (57 kB)\n",
            "\u001b[K     |████████████████████████████████| 57 kB 1.2 MB/s \n",
            "\u001b[?25hRequirement already satisfied: ipython in /usr/local/lib/python3.8/dist-packages (from kora) (7.9.0)\n",
            "Requirement already satisfied: fastcore in /usr/local/lib/python3.8/dist-packages (from kora) (1.5.27)\n",
            "Requirement already satisfied: pip in /usr/local/lib/python3.8/dist-packages (from fastcore->kora) (21.1.3)\n",
            "Requirement already satisfied: packaging in /usr/local/lib/python3.8/dist-packages (from fastcore->kora) (21.3)\n",
            "Requirement already satisfied: pygments in /usr/local/lib/python3.8/dist-packages (from ipython->kora) (2.6.1)\n",
            "Collecting jedi>=0.10\n",
            "  Downloading jedi-0.18.2-py2.py3-none-any.whl (1.6 MB)\n",
            "\u001b[K     |████████████████████████████████| 1.6 MB 26.9 MB/s \n",
            "\u001b[?25hRequirement already satisfied: traitlets>=4.2 in /usr/local/lib/python3.8/dist-packages (from ipython->kora) (5.6.0)\n",
            "Requirement already satisfied: decorator in /usr/local/lib/python3.8/dist-packages (from ipython->kora) (4.4.2)\n",
            "Requirement already satisfied: pexpect in /usr/local/lib/python3.8/dist-packages (from ipython->kora) (4.8.0)\n",
            "Requirement already satisfied: setuptools>=18.5 in /usr/local/lib/python3.8/dist-packages (from ipython->kora) (57.4.0)\n",
            "Requirement already satisfied: pickleshare in /usr/local/lib/python3.8/dist-packages (from ipython->kora) (0.7.5)\n",
            "Requirement already satisfied: backcall in /usr/local/lib/python3.8/dist-packages (from ipython->kora) (0.2.0)\n",
            "Requirement already satisfied: prompt-toolkit<2.1.0,>=2.0.0 in /usr/local/lib/python3.8/dist-packages (from ipython->kora) (2.0.10)\n",
            "Requirement already satisfied: parso<0.9.0,>=0.8.0 in /usr/local/lib/python3.8/dist-packages (from jedi>=0.10->ipython->kora) (0.8.3)\n",
            "Requirement already satisfied: wcwidth in /usr/local/lib/python3.8/dist-packages (from prompt-toolkit<2.1.0,>=2.0.0->ipython->kora) (0.2.5)\n",
            "Requirement already satisfied: six>=1.9.0 in /usr/local/lib/python3.8/dist-packages (from prompt-toolkit<2.1.0,>=2.0.0->ipython->kora) (1.15.0)\n",
            "Requirement already satisfied: pyparsing!=3.0.5,>=2.0.2 in /usr/local/lib/python3.8/dist-packages (from packaging->fastcore->kora) (3.0.9)\n",
            "Requirement already satisfied: ptyprocess>=0.5 in /usr/local/lib/python3.8/dist-packages (from pexpect->ipython->kora) (0.7.0)\n",
            "Installing collected packages: jedi, kora\n",
            "Successfully installed jedi-0.18.2 kora-0.9.20\n",
            "https://20d1-34-90-125-37.ngrok.io\n"
          ]
        }
      ]
    },
    {
      "cell_type": "code",
      "source": [],
      "metadata": {
        "id": "OABzif01ihKc"
      },
      "execution_count": null,
      "outputs": []
    },
    {
      "cell_type": "code",
      "source": [
        "!pip install scikit-plot"
      ],
      "metadata": {
        "colab": {
          "base_uri": "https://localhost:8080/"
        },
        "id": "b7TyIEqIGymf",
        "outputId": "60fb8159-7313-43b6-cee5-8c59f6b5b999"
      },
      "execution_count": null,
      "outputs": [
        {
          "output_type": "stream",
          "name": "stdout",
          "text": [
            "Looking in indexes: https://pypi.org/simple, https://us-python.pkg.dev/colab-wheels/public/simple/\n",
            "Collecting scikit-plot\n",
            "  Downloading scikit_plot-0.3.7-py3-none-any.whl (33 kB)\n",
            "Requirement already satisfied: joblib>=0.10 in /usr/local/lib/python3.8/dist-packages (from scikit-plot) (1.2.0)\n",
            "Requirement already satisfied: scikit-learn>=0.18 in /usr/local/lib/python3.8/dist-packages (from scikit-plot) (1.0.2)\n",
            "Requirement already satisfied: scipy>=0.9 in /usr/local/lib/python3.8/dist-packages (from scikit-plot) (1.7.3)\n",
            "Requirement already satisfied: matplotlib>=1.4.0 in /usr/local/lib/python3.8/dist-packages (from scikit-plot) (3.2.2)\n",
            "Requirement already satisfied: kiwisolver>=1.0.1 in /usr/local/lib/python3.8/dist-packages (from matplotlib>=1.4.0->scikit-plot) (1.4.4)\n",
            "Requirement already satisfied: python-dateutil>=2.1 in /usr/local/lib/python3.8/dist-packages (from matplotlib>=1.4.0->scikit-plot) (2.8.2)\n",
            "Requirement already satisfied: pyparsing!=2.0.4,!=2.1.2,!=2.1.6,>=2.0.1 in /usr/local/lib/python3.8/dist-packages (from matplotlib>=1.4.0->scikit-plot) (3.0.9)\n",
            "Requirement already satisfied: cycler>=0.10 in /usr/local/lib/python3.8/dist-packages (from matplotlib>=1.4.0->scikit-plot) (0.11.0)\n",
            "Requirement already satisfied: numpy>=1.11 in /usr/local/lib/python3.8/dist-packages (from matplotlib>=1.4.0->scikit-plot) (1.21.6)\n",
            "Requirement already satisfied: six>=1.5 in /usr/local/lib/python3.8/dist-packages (from python-dateutil>=2.1->matplotlib>=1.4.0->scikit-plot) (1.15.0)\n",
            "Requirement already satisfied: threadpoolctl>=2.0.0 in /usr/local/lib/python3.8/dist-packages (from scikit-learn>=0.18->scikit-plot) (3.1.0)\n",
            "Installing collected packages: scikit-plot\n",
            "Successfully installed scikit-plot-0.3.7\n"
          ]
        }
      ]
    },
    {
      "cell_type": "code",
      "source": [
        "!pip install keras"
      ],
      "metadata": {
        "colab": {
          "base_uri": "https://localhost:8080/"
        },
        "id": "J5S_080nRtm6",
        "outputId": "c86077ba-59fe-4b47-8380-b0039fe53705"
      },
      "execution_count": null,
      "outputs": [
        {
          "output_type": "stream",
          "name": "stdout",
          "text": [
            "Looking in indexes: https://pypi.org/simple, https://us-python.pkg.dev/colab-wheels/public/simple/\n",
            "Requirement already satisfied: keras in /usr/local/lib/python3.8/dist-packages (2.9.0)\n"
          ]
        }
      ]
    },
    {
      "cell_type": "code",
      "source": [
        "import os\n",
        "import cv2\n",
        "import math\n",
        "import numpy as np\n",
        "import pandas as pd\n",
        "\n",
        "import scikitplot\n",
        "import seaborn as sns\n",
        "from matplotlib import pyplot\n",
        "\n",
        "from sklearn.model_selection import train_test_split\n",
        "from sklearn.metrics import classification_report\n",
        "\n",
        "import tensorflow as tf\n",
        "from tensorflow.keras import optimizers\n",
        "from tensorflow.keras.models import Model\n",
        "from tensorflow.keras.layers import Flatten, Dense, GlobalAvgPool2D, GlobalMaxPool2D\n",
        "from tensorflow.keras.callbacks import Callback, EarlyStopping, ReduceLROnPlateau\n",
        "from tensorflow.keras.preprocessing.image import ImageDataGenerator\n",
        "from tensorflow.keras.applications.mobilenet import MobileNet\n",
        "from tensorflow.keras.utils import plot_model\n",
        "\n",
        "from keras.utils import np_utils"
      ],
      "metadata": {
        "id": "PWfKyKhrWl5C"
      },
      "execution_count": null,
      "outputs": []
    },
    {
      "cell_type": "code",
      "source": [
        "INPUT_PATH = \"/content/\""
      ],
      "metadata": {
        "id": "NYJR0uJ_WpEp"
      },
      "execution_count": null,
      "outputs": []
    },
    {
      "cell_type": "code",
      "source": [
        "total_images = 0\n",
        "for dir_ in os.listdir(INPUT_PATH):\n",
        "    if os.path.isdir(dir_):\n",
        "      count = 0\n",
        "      for f in os.listdir(INPUT_PATH + dir_ + \"/\"):\n",
        "          count += 1\n",
        "          total_images += 1\n",
        "    print(f\"{dir_} has {count} number of images\")\n",
        "    \n",
        "print(f\"\\ntotal images are {total_images}\")"
      ],
      "metadata": {
        "colab": {
          "base_uri": "https://localhost:8080/"
        },
        "id": "EsJyuwnpWxo-",
        "outputId": "b67ce3cc-5bad-4c43-a92b-23aeb046fc76"
      },
      "execution_count": null,
      "outputs": [
        {
          "output_type": "stream",
          "name": "stdout",
          "text": [
            ".config has 8 number of images\n",
            "emo.zip has 8 number of images\n",
            "Happy has 6834 number of images\n",
            "Neutral has 4295 number of images\n",
            "fear has 2535 number of images\n",
            "epoch_history_mobilenet.png has 2535 number of images\n",
            "model.png has 2535 number of images\n",
            "Angry has 2832 number of images\n",
            "disgust has 380 number of images\n",
            "sample_data has 6 number of images\n",
            "\n",
            "total images are 16890\n"
          ]
        }
      ]
    },
    {
      "cell_type": "code",
      "source": [
        "TOP_EMOTIONS = [\"fear\", \"Happy\", \"Neutral\", \"Angry\"]\n",
        "total_images -= 380\n",
        "total_images"
      ],
      "metadata": {
        "colab": {
          "base_uri": "https://localhost:8080/"
        },
        "id": "p0khpFKTXGgp",
        "outputId": "ef5e327c-4352-418a-c905-e49d6c0517ae"
      },
      "execution_count": null,
      "outputs": [
        {
          "output_type": "execute_result",
          "data": {
            "text/plain": [
              "16510"
            ]
          },
          "metadata": {},
          "execution_count": 80
        }
      ]
    },
    {
      "cell_type": "code",
      "source": [
        "img_arr = np.empty(shape=(total_images,48,48,3))\n",
        "img_label = np.empty(shape=(total_images))\n",
        "label_to_text = {}\n",
        "\n",
        "i = 0\n",
        "e = 0\n",
        "for dir_ in os.listdir(INPUT_PATH):\n",
        "    if dir_ in TOP_EMOTIONS:\n",
        "        label_to_text[e] = dir_\n",
        "        for f in os.listdir(INPUT_PATH + dir_ + \"/\"):\n",
        "            img_arr[i] = cv2.imread(INPUT_PATH + dir_ + \"/\" + f)\n",
        "            img_label[i] = e\n",
        "            i += 1\n",
        "        print(f\"loaded all {dir_} images to numpy arrays\")\n",
        "        e += 1\n",
        "\n",
        "img_arr.shape, img_label"
      ],
      "metadata": {
        "colab": {
          "base_uri": "https://localhost:8080/"
        },
        "id": "8E_bDfpQFfAE",
        "outputId": "933f7ae0-4794-46fb-d1cf-0a975666a431"
      },
      "execution_count": null,
      "outputs": [
        {
          "output_type": "stream",
          "name": "stdout",
          "text": [
            "loaded all Happy images to numpy arrays\n",
            "loaded all Neutral images to numpy arrays\n",
            "loaded all fear images to numpy arrays\n",
            "loaded all Angry images to numpy arrays\n"
          ]
        },
        {
          "output_type": "execute_result",
          "data": {
            "text/plain": [
              "((16510, 48, 48, 3),\n",
              " array([0.00000000e+000, 0.00000000e+000, 0.00000000e+000, ...,\n",
              "        2.42092166e-322, 2.12199579e-314, 3.19209882e-314]))"
            ]
          },
          "metadata": {},
          "execution_count": 159
        }
      ]
    },
    {
      "cell_type": "code",
      "source": [
        "fig = pyplot.figure(1, (8,8))\n",
        "\n",
        "idx = 0\n",
        "for k in label_to_text:\n",
        "    sample_indices = np.random.choice(np.where(img_label==k)[0], size=4, replace=False)\n",
        "    sample_images = img_arr[sample_indices]\n",
        "    for img in sample_images:\n",
        "        idx += 1\n",
        "        ax = pyplot.subplot(4,4,idx)\n",
        "        ax.imshow(img[:,:,0], cmap='gray')\n",
        "        ax.set_xticks([])\n",
        "        ax.set_yticks([])\n",
        "        ax.set_title(label_to_text[k])\n",
        "        pyplot.tight_layout()"
      ],
      "metadata": {
        "colab": {
          "base_uri": "https://localhost:8080/",
          "height": 236
        },
        "id": "YgRF3bNmUqGW",
        "outputId": "4c44983e-4de8-4b88-b739-7c2de9f0adfe"
      },
      "execution_count": null,
      "outputs": [
        {
          "output_type": "error",
          "ename": "NameError",
          "evalue": "ignored",
          "traceback": [
            "\u001b[0;31m---------------------------------------------------------------------------\u001b[0m",
            "\u001b[0;31mNameError\u001b[0m                                 Traceback (most recent call last)",
            "\u001b[0;32m<ipython-input-1-21c9c3facdc7>\u001b[0m in \u001b[0;36m<module>\u001b[0;34m\u001b[0m\n\u001b[0;32m----> 1\u001b[0;31m \u001b[0mfig\u001b[0m \u001b[0;34m=\u001b[0m \u001b[0mpyplot\u001b[0m\u001b[0;34m.\u001b[0m\u001b[0mfigure\u001b[0m\u001b[0;34m(\u001b[0m\u001b[0;36m1\u001b[0m\u001b[0;34m,\u001b[0m \u001b[0;34m(\u001b[0m\u001b[0;36m8\u001b[0m\u001b[0;34m,\u001b[0m\u001b[0;36m8\u001b[0m\u001b[0;34m)\u001b[0m\u001b[0;34m)\u001b[0m\u001b[0;34m\u001b[0m\u001b[0;34m\u001b[0m\u001b[0m\n\u001b[0m\u001b[1;32m      2\u001b[0m \u001b[0;34m\u001b[0m\u001b[0m\n\u001b[1;32m      3\u001b[0m \u001b[0midx\u001b[0m \u001b[0;34m=\u001b[0m \u001b[0;36m0\u001b[0m\u001b[0;34m\u001b[0m\u001b[0;34m\u001b[0m\u001b[0m\n\u001b[1;32m      4\u001b[0m \u001b[0;32mfor\u001b[0m \u001b[0mk\u001b[0m \u001b[0;32min\u001b[0m \u001b[0mlabel_to_text\u001b[0m\u001b[0;34m:\u001b[0m\u001b[0;34m\u001b[0m\u001b[0;34m\u001b[0m\u001b[0m\n\u001b[1;32m      5\u001b[0m     \u001b[0msample_indices\u001b[0m \u001b[0;34m=\u001b[0m \u001b[0mnp\u001b[0m\u001b[0;34m.\u001b[0m\u001b[0mrandom\u001b[0m\u001b[0;34m.\u001b[0m\u001b[0mchoice\u001b[0m\u001b[0;34m(\u001b[0m\u001b[0mnp\u001b[0m\u001b[0;34m.\u001b[0m\u001b[0mwhere\u001b[0m\u001b[0;34m(\u001b[0m\u001b[0mimg_label\u001b[0m\u001b[0;34m==\u001b[0m\u001b[0mk\u001b[0m\u001b[0;34m)\u001b[0m\u001b[0;34m[\u001b[0m\u001b[0;36m0\u001b[0m\u001b[0;34m]\u001b[0m\u001b[0;34m,\u001b[0m \u001b[0msize\u001b[0m\u001b[0;34m=\u001b[0m\u001b[0;36m4\u001b[0m\u001b[0;34m,\u001b[0m \u001b[0mreplace\u001b[0m\u001b[0;34m=\u001b[0m\u001b[0;32mFalse\u001b[0m\u001b[0;34m)\u001b[0m\u001b[0;34m\u001b[0m\u001b[0;34m\u001b[0m\u001b[0m\n",
            "\u001b[0;31mNameError\u001b[0m: name 'pyplot' is not defined"
          ]
        }
      ]
    },
    {
      "cell_type": "code",
      "source": [
        "img_label = np_utils.to_categorical(img_label)\n",
        "img_label.shape"
      ],
      "metadata": {
        "colab": {
          "base_uri": "https://localhost:8080/"
        },
        "id": "vELnT7sPUtC7",
        "outputId": "8ead9f0b-bd7c-4b76-f67c-18102dd2ebd8"
      },
      "execution_count": null,
      "outputs": [
        {
          "output_type": "execute_result",
          "data": {
            "text/plain": [
              "(16510, 4)"
            ]
          },
          "metadata": {},
          "execution_count": 161
        }
      ]
    },
    {
      "cell_type": "code",
      "source": [
        "img_arr = img_arr / 255."
      ],
      "metadata": {
        "id": "fJPnvF0QUuXv"
      },
      "execution_count": null,
      "outputs": []
    },
    {
      "cell_type": "code",
      "source": [
        "X_train, X_test, y_train, y_test = train_test_split(img_arr, img_label,\n",
        "                                                    shuffle=True, stratify=img_label,\n",
        "                                                    train_size=0.9, random_state=42)\n",
        "X_train.shape, X_test.shape, y_train.shape, y_test.shape"
      ],
      "metadata": {
        "colab": {
          "base_uri": "https://localhost:8080/"
        },
        "id": "YQjBHEknUwQT",
        "outputId": "145aa726-6431-4390-e175-e0f4fec80f62"
      },
      "execution_count": null,
      "outputs": [
        {
          "output_type": "execute_result",
          "data": {
            "text/plain": [
              "((14859, 48, 48, 3), (1651, 48, 48, 3), (14859, 4), (1651, 4))"
            ]
          },
          "metadata": {},
          "execution_count": 163
        }
      ]
    },
    {
      "cell_type": "code",
      "source": [
        "img_width = X_train.shape[1]\n",
        "img_height = X_train.shape[2]\n",
        "img_depth = X_train.shape[3]\n",
        "num_classes = y_train.shape[1]"
      ],
      "metadata": {
        "id": "lVkwaTgHUx9J"
      },
      "execution_count": null,
      "outputs": []
    },
    {
      "cell_type": "code",
      "source": [
        "mobile_net = MobileNet(\n",
        "    input_shape = (img_width, img_height, img_depth),\n",
        "    include_top = False,\n",
        "    weights = \"imagenet\",\n",
        "    classes = num_classes\n",
        ")\n",
        "\n",
        "x = mobile_net.layers[-14].output\n",
        "global_pool = GlobalMaxPool2D(name=\"global_pool\")(x)\n",
        "out = Dense(num_classes, activation=\"softmax\", name=\"out_layer\")(global_pool)\n",
        "\n",
        "model = Model(inputs=mobile_net.input, outputs=out)"
      ],
      "metadata": {
        "colab": {
          "base_uri": "https://localhost:8080/"
        },
        "id": "6IksXgByUzcT",
        "outputId": "c0cc2932-c1e8-4473-8c0c-6331769b8386"
      },
      "execution_count": null,
      "outputs": [
        {
          "output_type": "stream",
          "name": "stderr",
          "text": [
            "WARNING:tensorflow:`input_shape` is undefined or non-square, or `rows` is not in [128, 160, 192, 224]. Weights for input shape (224, 224) will be loaded as the default.\n"
          ]
        }
      ]
    },
    {
      "cell_type": "code",
      "source": [
        "for layer in model.layers[:15]:\n",
        "    layer.trainable = False"
      ],
      "metadata": {
        "id": "8uP6mNS3U2xt"
      },
      "execution_count": null,
      "outputs": []
    },
    {
      "cell_type": "code",
      "source": [
        "train_datagen = ImageDataGenerator(\n",
        "    rotation_range=15,\n",
        "    width_shift_range=0.15,\n",
        "    height_shift_range=0.15,\n",
        "    shear_range=0.15,\n",
        "    zoom_range=0.15,\n",
        "    horizontal_flip=True,\n",
        "    zca_whitening=False,\n",
        ")\n",
        "train_datagen.fit(X_train)"
      ],
      "metadata": {
        "id": "6P8FYGm0U4Yo"
      },
      "execution_count": null,
      "outputs": []
    },
    {
      "cell_type": "code",
      "source": [
        "early_stopping = EarlyStopping(\n",
        "    monitor='val_accuracy',\n",
        "    min_delta=0.00008,\n",
        "    patience=11,\n",
        "    verbose=1,\n",
        "    restore_best_weights=True,\n",
        ")\n",
        "\n",
        "lr_scheduler = ReduceLROnPlateau(\n",
        "    monitor='val_accuracy',\n",
        "    min_delta=0.0001,\n",
        "    factor=0.25,\n",
        "    patience=4,\n",
        "    min_lr=1e-7,\n",
        "    verbose=1,\n",
        ")\n",
        "\n",
        "callbacks = [\n",
        "    early_stopping,\n",
        "    lr_scheduler,\n",
        "]\n"
      ],
      "metadata": {
        "id": "HHKNwrZBU64X"
      },
      "execution_count": null,
      "outputs": []
    },
    {
      "cell_type": "code",
      "source": [
        "batch_size = 25\n",
        "epochs = 40\n",
        "\n",
        "optims = [\n",
        "    optimizers.Nadam(learning_rate=0.001, beta_1=0.9, beta_2=0.999, epsilon=1e-07),\n",
        "    optimizers.Adam(0.01),\n",
        "]\n",
        "\n",
        "model.compile(\n",
        "        loss='categorical_crossentropy',\n",
        "        optimizer=optims[1],\n",
        "        metrics=['accuracy']\n",
        ")\n",
        "\n",
        "history = model.fit_generator(\n",
        "    train_datagen.flow(X_train, y_train, batch_size=batch_size),\n",
        "    validation_data=(X_test, y_test),\n",
        "    steps_per_epoch=len(X_train) / batch_size,\n",
        "    epochs=epochs,\n",
        "    callbacks=callbacks,\n",
        "    use_multiprocessing=True\n",
        ")"
      ],
      "metadata": {
        "colab": {
          "base_uri": "https://localhost:8080/"
        },
        "id": "dtsOQd1YU88Z",
        "outputId": "80a1d23c-3269-48a7-a940-72e6e1284f55"
      },
      "execution_count": null,
      "outputs": [
        {
          "output_type": "stream",
          "name": "stdout",
          "text": [
            "Epoch 1/40\n"
          ]
        },
        {
          "output_type": "stream",
          "name": "stderr",
          "text": [
            "<ipython-input-169-7be4333399cc>:15: UserWarning: `Model.fit_generator` is deprecated and will be removed in a future version. Please use `Model.fit`, which supports generators.\n",
            "  history = model.fit_generator(\n"
          ]
        },
        {
          "output_type": "stream",
          "name": "stdout",
          "text": [
            "594/594 [==============================] - 16s 24ms/step - loss: 1.3081 - accuracy: 0.4989 - val_loss: 1.0993 - val_accuracy: 0.5833 - lr: 0.0100\n",
            "Epoch 2/40\n",
            "594/594 [==============================] - 13s 21ms/step - loss: 0.9979 - accuracy: 0.6037 - val_loss: 0.9894 - val_accuracy: 0.5893 - lr: 0.0100\n",
            "Epoch 3/40\n",
            "594/594 [==============================] - 13s 21ms/step - loss: 0.9068 - accuracy: 0.6344 - val_loss: 0.9851 - val_accuracy: 0.5954 - lr: 0.0100\n",
            "Epoch 4/40\n",
            "594/594 [==============================] - 13s 21ms/step - loss: 0.8760 - accuracy: 0.6516 - val_loss: 0.9041 - val_accuracy: 0.6511 - lr: 0.0100\n",
            "Epoch 5/40\n",
            "594/594 [==============================] - 13s 21ms/step - loss: 0.8668 - accuracy: 0.6573 - val_loss: 0.8967 - val_accuracy: 0.6360 - lr: 0.0100\n",
            "Epoch 6/40\n",
            "594/594 [==============================] - 13s 21ms/step - loss: 0.8393 - accuracy: 0.6676 - val_loss: 0.9519 - val_accuracy: 0.6021 - lr: 0.0100\n",
            "Epoch 7/40\n",
            "594/594 [==============================] - 15s 25ms/step - loss: 0.8164 - accuracy: 0.6783 - val_loss: 0.8732 - val_accuracy: 0.6548 - lr: 0.0100\n",
            "Epoch 8/40\n",
            "594/594 [==============================] - 13s 21ms/step - loss: 0.8008 - accuracy: 0.6858 - val_loss: 0.8331 - val_accuracy: 0.6760 - lr: 0.0100\n",
            "Epoch 9/40\n",
            "594/594 [==============================] - 13s 21ms/step - loss: 0.7921 - accuracy: 0.6875 - val_loss: 0.8055 - val_accuracy: 0.7002 - lr: 0.0100\n",
            "Epoch 10/40\n",
            "594/594 [==============================] - 13s 21ms/step - loss: 0.7883 - accuracy: 0.6887 - val_loss: 0.8640 - val_accuracy: 0.6584 - lr: 0.0100\n",
            "Epoch 11/40\n",
            "594/594 [==============================] - 13s 21ms/step - loss: 0.7721 - accuracy: 0.7000 - val_loss: 1.1726 - val_accuracy: 0.5167 - lr: 0.0100\n",
            "Epoch 12/40\n",
            "594/594 [==============================] - 13s 21ms/step - loss: 0.7609 - accuracy: 0.7005 - val_loss: 0.8972 - val_accuracy: 0.6608 - lr: 0.0100\n",
            "Epoch 13/40\n",
            "595/594 [==============================] - ETA: 0s - loss: 0.7467 - accuracy: 0.7087\n",
            "Epoch 13: ReduceLROnPlateau reducing learning rate to 0.0024999999441206455.\n",
            "594/594 [==============================] - 13s 21ms/step - loss: 0.7467 - accuracy: 0.7087 - val_loss: 0.9227 - val_accuracy: 0.6596 - lr: 0.0100\n",
            "Epoch 14/40\n",
            "594/594 [==============================] - 13s 22ms/step - loss: 0.6895 - accuracy: 0.7285 - val_loss: 0.7278 - val_accuracy: 0.7153 - lr: 0.0025\n",
            "Epoch 15/40\n",
            "594/594 [==============================] - 13s 22ms/step - loss: 0.6755 - accuracy: 0.7377 - val_loss: 0.7195 - val_accuracy: 0.7147 - lr: 0.0025\n",
            "Epoch 16/40\n",
            "594/594 [==============================] - 13s 21ms/step - loss: 0.6571 - accuracy: 0.7473 - val_loss: 0.6947 - val_accuracy: 0.7153 - lr: 0.0025\n",
            "Epoch 17/40\n",
            "594/594 [==============================] - 13s 21ms/step - loss: 0.6546 - accuracy: 0.7482 - val_loss: 0.7180 - val_accuracy: 0.7141 - lr: 0.0025\n",
            "Epoch 18/40\n",
            "594/594 [==============================] - 13s 21ms/step - loss: 0.6437 - accuracy: 0.7495 - val_loss: 0.6914 - val_accuracy: 0.7244 - lr: 0.0025\n",
            "Epoch 19/40\n",
            "594/594 [==============================] - 13s 21ms/step - loss: 0.6391 - accuracy: 0.7496 - val_loss: 0.6856 - val_accuracy: 0.7214 - lr: 0.0025\n",
            "Epoch 20/40\n",
            "594/594 [==============================] - 13s 21ms/step - loss: 0.6291 - accuracy: 0.7569 - val_loss: 0.7020 - val_accuracy: 0.7262 - lr: 0.0025\n",
            "Epoch 21/40\n",
            "594/594 [==============================] - 13s 21ms/step - loss: 0.6265 - accuracy: 0.7561 - val_loss: 0.6915 - val_accuracy: 0.7208 - lr: 0.0025\n",
            "Epoch 22/40\n",
            "594/594 [==============================] - 13s 21ms/step - loss: 0.6230 - accuracy: 0.7579 - val_loss: 0.6850 - val_accuracy: 0.7190 - lr: 0.0025\n",
            "Epoch 23/40\n",
            "594/594 [==============================] - 13s 21ms/step - loss: 0.6218 - accuracy: 0.7589 - val_loss: 0.7223 - val_accuracy: 0.7214 - lr: 0.0025\n",
            "Epoch 24/40\n",
            "593/594 [============================>.] - ETA: 0s - loss: 0.6088 - accuracy: 0.7678\n",
            "Epoch 24: ReduceLROnPlateau reducing learning rate to 0.0006249999860301614.\n",
            "594/594 [==============================] - 13s 21ms/step - loss: 0.6090 - accuracy: 0.7677 - val_loss: 0.7097 - val_accuracy: 0.7184 - lr: 0.0025\n",
            "Epoch 25/40\n",
            "594/594 [==============================] - 13s 21ms/step - loss: 0.5896 - accuracy: 0.7746 - val_loss: 0.6898 - val_accuracy: 0.7244 - lr: 6.2500e-04\n",
            "Epoch 26/40\n",
            "594/594 [==============================] - 13s 21ms/step - loss: 0.5823 - accuracy: 0.7745 - val_loss: 0.6811 - val_accuracy: 0.7268 - lr: 6.2500e-04\n",
            "Epoch 27/40\n",
            "594/594 [==============================] - 13s 22ms/step - loss: 0.5748 - accuracy: 0.7790 - val_loss: 0.6827 - val_accuracy: 0.7274 - lr: 6.2500e-04\n",
            "Epoch 28/40\n",
            "594/594 [==============================] - 14s 23ms/step - loss: 0.5775 - accuracy: 0.7782 - val_loss: 0.6895 - val_accuracy: 0.7293 - lr: 6.2500e-04\n",
            "Epoch 29/40\n",
            "594/594 [==============================] - 13s 21ms/step - loss: 0.5709 - accuracy: 0.7792 - val_loss: 0.6875 - val_accuracy: 0.7238 - lr: 6.2500e-04\n",
            "Epoch 30/40\n",
            "594/594 [==============================] - 13s 21ms/step - loss: 0.5720 - accuracy: 0.7816 - val_loss: 0.6874 - val_accuracy: 0.7341 - lr: 6.2500e-04\n",
            "Epoch 31/40\n",
            "594/594 [==============================] - 13s 21ms/step - loss: 0.5750 - accuracy: 0.7756 - val_loss: 0.6799 - val_accuracy: 0.7311 - lr: 6.2500e-04\n",
            "Epoch 32/40\n",
            "594/594 [==============================] - 13s 22ms/step - loss: 0.5677 - accuracy: 0.7817 - val_loss: 0.6903 - val_accuracy: 0.7244 - lr: 6.2500e-04\n",
            "Epoch 33/40\n",
            "594/594 [==============================] - 13s 21ms/step - loss: 0.5639 - accuracy: 0.7835 - val_loss: 0.6829 - val_accuracy: 0.7305 - lr: 6.2500e-04\n",
            "Epoch 34/40\n",
            "593/594 [============================>.] - ETA: 0s - loss: 0.5676 - accuracy: 0.7826\n",
            "Epoch 34: ReduceLROnPlateau reducing learning rate to 0.00015624999650754035.\n",
            "594/594 [==============================] - 13s 21ms/step - loss: 0.5675 - accuracy: 0.7826 - val_loss: 0.6805 - val_accuracy: 0.7262 - lr: 6.2500e-04\n",
            "Epoch 35/40\n",
            "594/594 [==============================] - 13s 22ms/step - loss: 0.5501 - accuracy: 0.7889 - val_loss: 0.6741 - val_accuracy: 0.7311 - lr: 1.5625e-04\n",
            "Epoch 36/40\n",
            "594/594 [==============================] - 13s 21ms/step - loss: 0.5600 - accuracy: 0.7811 - val_loss: 0.6784 - val_accuracy: 0.7305 - lr: 1.5625e-04\n",
            "Epoch 37/40\n",
            "594/594 [==============================] - 13s 22ms/step - loss: 0.5584 - accuracy: 0.7846 - val_loss: 0.6741 - val_accuracy: 0.7335 - lr: 1.5625e-04\n",
            "Epoch 38/40\n",
            "595/594 [==============================] - ETA: 0s - loss: 0.5542 - accuracy: 0.7866\n",
            "Epoch 38: ReduceLROnPlateau reducing learning rate to 3.9062499126885086e-05.\n",
            "594/594 [==============================] - 13s 21ms/step - loss: 0.5542 - accuracy: 0.7866 - val_loss: 0.6734 - val_accuracy: 0.7335 - lr: 1.5625e-04\n",
            "Epoch 39/40\n",
            "594/594 [==============================] - 13s 21ms/step - loss: 0.5581 - accuracy: 0.7826 - val_loss: 0.6758 - val_accuracy: 0.7329 - lr: 3.9062e-05\n",
            "Epoch 40/40\n",
            "594/594 [==============================] - 13s 22ms/step - loss: 0.5557 - accuracy: 0.7848 - val_loss: 0.6742 - val_accuracy: 0.7341 - lr: 3.9062e-05\n"
          ]
        }
      ]
    },
    {
      "cell_type": "code",
      "source": [
        "model_yaml = model.to_json() \n",
        "with open(\"model_mobelnet.yaml\", \"w\") as yaml_file:\n",
        "    yaml_file.write(model_yaml)\n",
        "    \n",
        "model.save(\"model_moblenet.h5\")"
      ],
      "metadata": {
        "id": "VbLHDOjJZeEZ"
      },
      "execution_count": null,
      "outputs": []
    },
    {
      "cell_type": "code",
      "source": [
        "sns.set()\n",
        "fig = pyplot.figure(0, (12, 4))\n",
        "\n",
        "ax = pyplot.subplot(1, 2, 1)\n",
        "sns.lineplot(history.epoch, history.history['accuracy'], label='train')\n",
        "sns.lineplot(history.epoch, history.history['val_accuracy'], label='valid')\n",
        "pyplot.title('Accuracy')\n",
        "pyplot.tight_layout()\n",
        "\n",
        "ax = pyplot.subplot(1, 2, 2)\n",
        "sns.lineplot(history.epoch, history.history['loss'], label='train')\n",
        "sns.lineplot(history.epoch, history.history['val_loss'], label='valid')\n",
        "pyplot.title('Loss')\n",
        "pyplot.tight_layout()\n",
        "\n",
        "pyplot.savefig('epoch_history_mobilenet.png')\n",
        "pyplot.show()"
      ],
      "metadata": {
        "id": "P_Kb4NGYZ5lq",
        "outputId": "21005b0f-1aab-46ec-af46-491b32679ae2",
        "colab": {
          "base_uri": "https://localhost:8080/",
          "height": 452
        }
      },
      "execution_count": null,
      "outputs": [
        {
          "output_type": "stream",
          "name": "stderr",
          "text": [
            "/usr/local/lib/python3.8/dist-packages/seaborn/_decorators.py:36: FutureWarning: Pass the following variables as keyword args: x, y. From version 0.12, the only valid positional argument will be `data`, and passing other arguments without an explicit keyword will result in an error or misinterpretation.\n",
            "  warnings.warn(\n",
            "/usr/local/lib/python3.8/dist-packages/seaborn/_decorators.py:36: FutureWarning: Pass the following variables as keyword args: x, y. From version 0.12, the only valid positional argument will be `data`, and passing other arguments without an explicit keyword will result in an error or misinterpretation.\n",
            "  warnings.warn(\n",
            "/usr/local/lib/python3.8/dist-packages/seaborn/_decorators.py:36: FutureWarning: Pass the following variables as keyword args: x, y. From version 0.12, the only valid positional argument will be `data`, and passing other arguments without an explicit keyword will result in an error or misinterpretation.\n",
            "  warnings.warn(\n",
            "/usr/local/lib/python3.8/dist-packages/seaborn/_decorators.py:36: FutureWarning: Pass the following variables as keyword args: x, y. From version 0.12, the only valid positional argument will be `data`, and passing other arguments without an explicit keyword will result in an error or misinterpretation.\n",
            "  warnings.warn(\n"
          ]
        },
        {
          "output_type": "display_data",
          "data": {
            "text/plain": [
              "<Figure size 864x288 with 2 Axes>"
            ],
            "image/png": "[encoded data removed]"
          },
          "metadata": {}
        }
      ]
    },
    {
      "cell_type": "code",
      "source": [
        "# Code reference: https://www.kaggle.com/code/sarthak3398/emotion-detection-using-transferlearning \n",
        "\n",
        "# https://www.kaggle.com/code/gauravsharma99/facial-emotion-recognition-using-transfer-learning"
      ],
      "metadata": {
        "id": "BiK9JMhKivbF"
      },
      "execution_count": null,
      "outputs": []
    }
  ]
}